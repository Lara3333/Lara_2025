{
 "cells": [
  {
   "cell_type": "raw",
   "metadata": {
    "vscode": {
     "languageId": "raw"
    }
   },
   "source": [
    "---\n",
    "comments: True\n",
    "layout: post\n",
    "title: Data Abstraction Hacks\n",
    "description: An intro to data abstraction\n",
    "permalink: /csse/javascript/fundamentals/data-abstraction-hacks\n",
    "type: ccc\n",
    "---"
   ]
  },
  {
   "cell_type": "markdown",
   "metadata": {},
   "source": [
    "# Popcorn Hack #1\n",
    "Create a child class of the class **Appliance**, and call it's name() function"
   ]
  },
  {
   "cell_type": "code",
   "execution_count": 8,
   "metadata": {
    "vscode": {
     "languageId": "javascript"
    }
   },
   "outputs": [
    {
     "data": {
      "application/javascript": "    class Appliance {\n        constructor(Mmb) {\n            this.Mmb = Mmb;\n        }\n        name() {\n            return \"I am a \" + this.constructor.Mmb + \" and my model is \" + this.Mmb;\n        }\n    }\n    // Below this name the class and cause it to inherit from the Appliance class\n    class Mmb extends Appliance{\n        constructor(Mmb) {\n            super(Mmb);\n            console.log(this.Mmb)\n    }\n        \n    }\n",
      "text/plain": [
       "<IPython.core.display.Javascript object>"
      ]
     },
     "metadata": {},
     "output_type": "display_data"
    }
   ],
   "source": [
    "%%js \n",
    "    class Appliance {\n",
    "        constructor(Mmb) {\n",
    "            this.Mmb = Mmb;\n",
    "        }\n",
    "        name() {\n",
    "            return \"I am a \" + this.constructor.Mmb + \" and my model is \" + this.Mmb;\n",
    "        }\n",
    "    }\n",
    "    // Below this name the class and cause it to inherit from the Appliance class\n",
    "    class Mmb extends Appliance{\n",
    "        constructor(Mmb) {\n",
    "            super(Mmb);\n",
    "            console.log(this.Mmb)\n",
    "    }\n",
    "        \n",
    "    }"
   ]
  },
  {
   "cell_type": "markdown",
   "metadata": {},
   "source": [
    "### Popcorn Hack #2\n",
    "Create child classes of the product class with items, and add parameters depending on what it is. An example is provided of a bagel."
   ]
  },
  {
   "cell_type": "code",
   "execution_count": 12,
   "metadata": {
    "vscode": {
     "languageId": "javascript"
    }
   },
   "outputs": [
    {
     "data": {
      "application/javascript": "    class Product{\n        constructor(price,mold,taxRate) {\n            this.price = price;\n            this.mold = mold;\n            this.taxRate = taxRate;\n        }   \n        getPrice() {\n            return this.price + this.taxRate * this.price;\n        }\n        product(){\n            const className = this.constructor.name.toLowerCase();\n            // Does not use and assuming that more parameteres will be added\n            return \"You are ordering an \" + className + \" with a price of \" + this.getPrice() + \" dollars, mold percentage of \" + this.mold + \"%\";\n        }\n    }\n    class Apple extends Product{\n        constructor(price, mold, taxRate, flavor) {\n            super(price, mold, taxRate);\n            this.flavor = flavor;\n        }\n        getPrice(){\n            return super.getPrice() * this.mold;\n        }\n        product(){\n            return super.product() + \" and a flavor of \" + this.flavor;\n        }\n    }\nvar sourApple = new Apple(11, 4, 0.31, \"Sour\");\nconsole.log(sourApple.product());\n",
      "text/plain": [
       "<IPython.core.display.Javascript object>"
      ]
     },
     "metadata": {},
     "output_type": "display_data"
    }
   ],
   "source": [
    "%%js\n",
    "    class Product{\n",
    "        constructor(price,mold,taxRate) {\n",
    "            this.price = price;\n",
    "            this.mold = mold;\n",
    "            this.taxRate = taxRate;\n",
    "        }   \n",
    "        getPrice() {\n",
    "            return this.price + this.taxRate * this.price;\n",
    "        }\n",
    "        product(){\n",
    "            const className = this.constructor.name.toLowerCase();\n",
    "            // Does not use and assuming that more parameteres will be added\n",
    "            return \"You are ordering an \" + className + \" with a price of \" + this.getPrice() + \" dollars, mold percentage of \" + this.mold + \"%\";\n",
    "        }\n",
    "    }\n",
    "    class Apple extends Product{\n",
    "        constructor(price, mold, taxRate, flavor) {\n",
    "            super(price, mold, taxRate);\n",
    "            this.flavor = flavor;\n",
    "        }\n",
    "        getPrice(){\n",
    "            return super.getPrice() * this.mold;\n",
    "        }\n",
    "        product(){\n",
    "            return super.product() + \" and a flavor of \" + this.flavor;\n",
    "        }\n",
    "    }\n",
    "var sourApple = new Apple(11, 4, 0.31, \"Sour\");\n",
    "console.log(sourApple.product());"
   ]
  }
 ],
 "metadata": {
  "kernelspec": {
   "display_name": "Python 3",
   "language": "python",
   "name": "python3"
  },
  "language_info": {
   "codemirror_mode": {
    "name": "ipython",
    "version": 3
   },
   "file_extension": ".py",
   "mimetype": "text/x-python",
   "name": "python",
   "nbconvert_exporter": "python",
   "pygments_lexer": "ipython3",
   "version": "3.9.6"
  }
 },
 "nbformat": 4,
 "nbformat_minor": 2
}
