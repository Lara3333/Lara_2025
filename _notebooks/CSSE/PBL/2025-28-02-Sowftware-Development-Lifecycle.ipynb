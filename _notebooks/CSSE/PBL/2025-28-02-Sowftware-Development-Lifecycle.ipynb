{
 "cells": [
  {
   "cell_type": "raw",
   "metadata": {
    "vscode": {
     "languageId": "raw"
    }
   },
   "source": [
    "---\n",
    "comments: true\n",
    "layout: post\n",
    "title: Software Development Lifecycle\n",
    "description: In this blog I will talk about working on software development as a team by relating it to our platformer4x game and the adventure game.\n",
    "permalink: /CSSE/PBL/2025-28-02-Sowftware-Development-Lifecycle.ipynb/\n",
    "type: ccc\n",
    "author: Lara Banjac\n",
    "---"
   ]
  }
 ],
 "metadata": {
  "language_info": {
   "name": "python"
  }
 },
 "nbformat": 4,
 "nbformat_minor": 2
}
