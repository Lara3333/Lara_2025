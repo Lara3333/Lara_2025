{
 "cells": [
  {
   "cell_type": "raw",
   "metadata": {
    "vscode": {
     "languageId": "raw"
    }
   },
   "source": [
    "---\n",
    "comments: true\n",
    "layout: post\n",
    "title: CSP Period 4 Unit 3.7.2 Nested Conditionals Javascript Lesson\n",
    "description: Nested conditionals in JavaScript allow for more complex decision-making by placing one conditional statement inside another. This structure enables a program to check additional conditions only if the previous condition is true, creating a layered decision process. In this lesson, students will learn how to implement nested if, else if, and else statements to create more specific control flows in their programs. Through examples and exercises, they will gain a deeper understanding of how to manage multiple conditions effectively, enhancing the logic of their code.\n",
    "permalink: /csp/big-idea/p4/3-7-2\n",
    "type: ccc\n",
    "author: Lara Banjac\n",
    "---"
   ]
  },
  {
   "cell_type": "markdown",
   "metadata": {},
   "source": [
    "<h1><span style=\"font-family: Ariel; color:#80deea\">Nested Conditionals Code Example in Javascript</span></h1>\n",
    "To gain a better understanding about Nested Conditionals and how they work, first we need to understand what condtionals are; Conditionals in general are \"if-then\" statements. They allow your program to make decisions based on certain conditions. If the condition is true, the program will do one thing; if it’s false, the program will do something else (or nothing at all). Here's an example. \n",
    "Think of it as asking a question and then deciding what to do based on the answer:\n",
    "\n",
    "Question: \"How are you doing?\"\n",
    "\n",
    "    Answer/Input: \"Good!\"\n",
    "    Result/Output: \"Glad to hear that!^^\"\n",
    "\n",
    "    Alternative Answer/Input: \"Not that well\"\n",
    "    Alternative Result: \"Sorry to hear that, I hope it isn't that bad.\"\n",
    "\n",
    "On the other hand, Nested Conditionals are conditionals within other conditionals. Let's use the previous example and extend it to an example with nested conditionals:\n",
    "\n",
    "    Question: \"How are you doing?\"\n",
    "\n",
    "        Answer/Input: \"Good!\"\n",
    "\n",
    "        Result/Output: \"Oooh~! Did something fun happen?\"\n",
    "\n",
    "            Answer/Input # 2: \"Actually, yes, I got an A for an assignment in my CSSE class ^^\"\n",
    "\n",
    "            Result/Output # 2: \"Ooh nice job! ^^\"\n",
    "\n",
    "        Alternative Answer/Input: \"Not that well\"\n",
    "\n",
    "        Alternative Result: \"Sorry to hear that, what happend?\"\n",
    "\n",
    "            Answer/Input #2: \"I threw up in front of my entire class.\"\n",
    "        \n",
    "            result/output #2: \"Oh... That probably sucks...\"\n"
   ]
  },
  {
   "cell_type": "markdown",
   "metadata": {},
   "source": [
    "<h2><span style=\"font-family: Ariel; color:#80deea\">Example 1 - Basic</span></h2>\n",
    "\n",
    "1. Figure out what kind of conversation you want to include in your RPG. Perhaps you could try to include something that has to do with your plot, since it might be helpful for the development for your RPG.\n",
    "2. Personalize the code given to your original ideas, for example if your RPG is about a forest, you might want to change the interaction to something forest-related.\n",
    "3. Use the given code to create nested conditionals to create more complex conversations."
   ]
  },
  {
   "cell_type": "code",
   "execution_count": 53,
   "metadata": {
    "vscode": {
     "languageId": "javascript"
    }
   },
   "outputs": [
    {
     "data": {
      "text/html": [
       "\n",
       "<div id=\"outputDiv\" style=\"margin-bottom: 10px;\"></div>\n",
       "<input type=\"text\" id=\"userInput\" placeholder=\"Type 'enter' or 'leave'\">\n",
       "<button id=\"submitButton\">Submit</button>\n"
      ],
      "text/plain": [
       "<IPython.core.display.HTML object>"
      ]
     },
     "metadata": {},
     "output_type": "display_data"
    }
   ],
   "source": []
  },
  {
   "cell_type": "markdown",
   "metadata": {},
   "source": [
    "<h3><span style=\"font-family: Ariel; color:#80deea\">Popcorn Hack 1</span></h3>\n",
    "\n",
    "Try adding an additional condition for hiking (like location_determined or miles_in_the_hike)."
   ]
  },
  {
   "cell_type": "markdown",
   "metadata": {},
   "source": [
    "<h2><span style=\"font-family: Ariel; color:#80deea\">Example 2 - Booleans</span></h2>\n",
    "\n",
    "1. Write a code that checks if you can host movie night.\n",
    "2. Use the presence of a living room, a projector, and snacks to determine if movie night is possible\n",
    "3. Use booleans in the code"
   ]
  },
  {
   "cell_type": "code",
   "execution_count": 15,
   "metadata": {
    "vscode": {
     "languageId": "javascript"
    }
   },
   "outputs": [
    {
     "data": {
      "application/javascript": "\nlet living_room_available = true;\nlet projector_working = false;\nlet enough_snacks = true;\n\nif (living_room_available) {\n    if (projector_working) {\n        if (enough_snacks) {\n            console.log(\"You're ready to host the movie night!\");\n        } else {\n            console.log(\"You need to get more snacks. Ideas: Popcorn, Candy, Soda\");\n        }\n    } else {\n        console.log(\"You need to fix or replace the projector.\");\n    }\n} else {\n    console.log(\"The living room is not available for the movie night. Find another room!\");\n}\n",
      "text/plain": [
       "<IPython.core.display.Javascript object>"
      ]
     },
     "metadata": {},
     "output_type": "display_data"
    }
   ],
   "source": [
    "%%javascript\n",
    "\n",
    "let living_room_available = true;\n",
    "let projector_working = false;\n",
    "let enough_snacks = true;\n",
    "\n",
    "if (living_room_available) {\n",
    "    if (projector_working) {\n",
    "        if (enough_snacks) {\n",
    "            console.log(\"You're ready to host the movie night!\");\n",
    "        } else {\n",
    "            console.log(\"You need to get more snacks. Ideas: Popcorn, Candy, Soda\");\n",
    "        }\n",
    "    } else {\n",
    "        console.log(\"You need to fix or replace the projector.\");\n",
    "    }\n",
    "} else {\n",
    "    console.log(\"The living room is not available for the movie night. Find another room!\");\n",
    "}"
   ]
  },
  {
   "cell_type": "markdown",
   "metadata": {},
   "source": [
    "<h3><span style=\"font-family: Ariel; color:#94c4ff\">Popcorn Hack 2</span></h3>\n",
    "\n",
    "Try changing some of the defined booleans and see what values you get!"
   ]
  },
  {
   "cell_type": "markdown",
   "metadata": {},
   "source": [
    "<h2><span style=\"font-family: Ariel; color:#94c4ff\">Example 3 - Integers, Booleans, AND Random</span></h2>\n",
    "\n",
    "1. Write a code that checks if you can go on a spontaneous road trip\n",
    "2. Check if you have enough gas, if the weather is good, if you've checked your car, and if you have enough in your budget\n",
    "3. Use integers, booleans, and randomized values"
   ]
  },
  {
   "cell_type": "code",
   "execution_count": 2,
   "metadata": {
    "vscode": {
     "languageId": "javascript"
    }
   },
   "outputs": [
    {
     "data": {
      "application/javascript": "\n// Boolean: Do you have enough gas? (Fixed)\nlet enough_gas = true;\n\n// Random: Is the weather good? (Random outcome)\nlet good_weather = Math.random() < 0.5; // Random true or false\n\n// Random: Did the car pass the check-up? (Random outcome)\nlet car_checked = Math.random() < 0.5; // Random true or false\n\n// Integer: Your current budget (Random between $50 and $200)\nlet budget = Math.floor(Math.random() * (200 - 50 + 1)) + 50;\nlet required_budget = 100; // Assume you need $100 for the trip\n\n// Check the conditions using nested conditionals\nif (enough_gas) {\n    console.log(\"You have enough gas!\");\n    if (good_weather) {\n        console.log(\"The weather is good!\");\n        if (car_checked) {\n            console.log(\"Your car has been checked!\");\n            if (budget >= required_budget) {\n                console.log(`You're ready for the road trip! You have $${budget}, which is enough.`);\n            } else {\n                console.log(`You need more money for the trip. You only have $${budget}, but you need at least $${required_budget}.`);\n            }\n        } else {\n            console.log(\"You need to get the car checked first.\");\n        }\n    } else {\n        console.log(\"The weather isn't good for a road trip.\");\n    }\n} else {\n    console.log(\"You need to fill up the tank first.\");\n}\n",
      "text/plain": [
       "<IPython.core.display.Javascript object>"
      ]
     },
     "metadata": {},
     "output_type": "display_data"
    }
   ],
   "source": [
    "%%javascript\n",
    "\n",
    "// Boolean: Do you have enough gas? (Fixed)\n",
    "let enough_gas = true;\n",
    "\n",
    "// Random: Is the weather good? (Random outcome)\n",
    "let good_weather = Math.random() < 0.5; // Random true or false\n",
    "\n",
    "// Random: Did the car pass the check-up? (Random outcome)\n",
    "let car_checked = Math.random() < 0.5; // Random true or false\n",
    "\n",
    "// Integer: Your current budget (Random between $50 and $200)\n",
    "let budget = Math.floor(Math.random() * (200 - 50 + 1)) + 50;\n",
    "let required_budget = 100; // Assume you need $100 for the trip\n",
    "\n",
    "// Check the conditions using nested conditionals\n",
    "if (enough_gas) {\n",
    "    console.log(\"You have enough gas!\");\n",
    "    if (good_weather) {\n",
    "        console.log(\"The weather is good!\");\n",
    "        if (car_checked) {\n",
    "            console.log(\"Your car has been checked!\");\n",
    "            if (budget >= required_budget) {\n",
    "                console.log(`You're ready for the road trip! You have $${budget}, which is enough.`);\n",
    "            } else {\n",
    "                console.log(`You need more money for the trip. You only have $${budget}, but you need at least $${required_budget}.`);\n",
    "            }\n",
    "        } else {\n",
    "            console.log(\"You need to get the car checked first.\");\n",
    "        }\n",
    "    } else {\n",
    "        console.log(\"The weather isn't good for a road trip.\");\n",
    "    }\n",
    "} else {\n",
    "    console.log(\"You need to fill up the tank first.\");\n",
    "}"
   ]
  },
  {
   "cell_type": "markdown",
   "metadata": {},
   "source": [
    "<h3><span style=\"font-family: Ariel; color:#94c4ff\">Popcorn Hack 3</span></h3>\n",
    "\n",
    "Try changing the enough_gas variable to a randomly-generated value! Also, try adding a gas value and check that the number of gallons is sufficient. "
   ]
  },
  {
   "cell_type": "markdown",
   "metadata": {},
   "source": [
    "## Learn more about Javascript Nested Conditionals\n",
    "\n",
    "[Javascript Nested Conditionals - ThoughtCo](https://www.thoughtco.com/javascript-making-decisions-2037427)"
   ]
  }
 ],
 "metadata": {
  "kernelspec": {
   "display_name": "venv",
   "language": "python",
   "name": "python3"
  },
  "language_info": {
   "codemirror_mode": {
    "name": "ipython",
    "version": 3
   },
   "file_extension": ".py",
   "mimetype": "text/x-python",
   "name": "python",
   "nbconvert_exporter": "python",
   "pygments_lexer": "ipython3",
   "version": "3.9.6"
  }
 },
 "nbformat": 4,
 "nbformat_minor": 2
}
