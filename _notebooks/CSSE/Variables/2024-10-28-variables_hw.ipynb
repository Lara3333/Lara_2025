{
 "cells": [
  {
   "cell_type": "markdown",
   "metadata": {},
   "source": [
    "# <span style=\"color: lavender; text-shadow: 2px 2px 5px lavender;\">Variables Homework (Show what you know!) </span>\n",
    "\n",
    "### Homework Problem: Understanding JavaScript Variables \n",
    "\n",
    "### <span style=\"color: pink; text-shadow: 2px 2px 5px pink;\"> Creating Variables</span>\n",
    "\n",
    "\n",
    "1. **Create three variables as an object variable**:\n",
    "   - A variable called `studentName` that stores your name as a string.\n",
    "   - A variable called `age` that stores your age as a number.\n",
    "   - A variable called `isStudent` that stores a boolean value indicating whether you are a student (use `true` or `false`).\n",
    "\n",
    "   2. **Create a function variable that displays that your favorite song is playing**:\n",
    "   \n",
    "      - A variable called `favoriteSong` that stores the name of your favorite song.\n",
    "      - A variable called `songArtist` that stores the song's artist.\n",
    "      - A function called `playFavoriteSong` that logs a message saying \"Now playing [favoriteSong] by [songArtist]\".\n",
    "\n",
    "\n",
    "\n",
    "3. **Using the variables you created**, write a sentence using `console.log()` to display:\n",
    "   - Your name.\n",
    "   - Your age.\n",
    "   - Whether you are a student.\n",
    "   - An output that states that your favorite song is now playing\n",
    "\n",
    "\n",
    "   Example output:\n",
    "My name is [Your Name], I am [Your Age] years old, and it is [true/false] that I am a student. \n",
    "Now playing Champion by Kanye West"
   ]
  },
  {
   "cell_type": "code",
   "execution_count": 20,
   "metadata": {
    "vscode": {
     "languageId": "javascript"
    }
   },
   "outputs": [
    {
     "data": {
      "application/javascript": "\n//defining all variables\nlet studentName = \"Lara Banjac\" \nlet studentAge = \"14\"\nlet isStudent = true\nlet favouriteSong = \"FE!N (pls don't bully me for this, I am actually not an NPC😭😭9\"\nlet songArtist = \"Travis Scott\"\n let trueStudent = \"I am a student at DNHS.\"\n    let falseStudent = \"I am not a student at DNHS.\"\n\n// Code funtion that creates a sentence out of the variables\nfunction studentProfile() {\n    console.log(\"My name is \",studentName, \"and I am\",studentAge)\n\n}\n\n//Coding a function that determines wether or not the person is a student at DNHS, based off of the variable isStudent\nfunction isThisAStudent(){\n    if (isStudent === true){\n        console.log(trueStudent)\n        }else{\n            console.log(falseStudent)\n        }\n}\n//Coding function that tells the user what song is playing\nfunction playFavouriteSong(){\nconsole.log(\"Now playing\",favouriteSong,\"by\",songArtist)\n}\n\n//Call all functions (or sth like that, Idk how else to say it lol)\nstudentProfile()\n\nisThisAStudent()\n\nplayFavouriteSong()\n",
      "text/plain": [
       "<IPython.core.display.Javascript object>"
      ]
     },
     "metadata": {},
     "output_type": "display_data"
    }
   ],
   "source": [
    "%%js \n",
    "\n",
    "//defining all variables\n",
    "let studentName = \"Lara Banjac\" \n",
    "let studentAge = \"14\"\n",
    "let isStudent = true\n",
    "let favouriteSong = \"FE!N (pls don't bully me for this, I am actually not an NPC😭😭)\"\n",
    "let songArtist = \"Travis Scott\"\n",
    " let trueStudent = \"I am a student at DNHS.\"\n",
    "    let falseStudent = \"I am not a student at DNHS.\"\n",
    "\n",
    "// Code funtion that creates a sentence out of the variables\n",
    "function studentProfile() {\n",
    "    //Btw I didn't know what f strings look like in js, so I just did it like this\n",
    "    console.log(\"My name is \",studentName, \"and I am\",studentAge)\n",
    "\n",
    "}\n",
    "\n",
    "//Coding a function that determines wether or not the person is a student at DNHS, based off of the variable isStudent\n",
    "function isThisAStudent(){\n",
    "    if (isStudent === true){\n",
    "        console.log(trueStudent)\n",
    "        }else{\n",
    "            console.log(falseStudent)\n",
    "        }\n",
    "}\n",
    "//Coding function that tells the user what song is playing\n",
    "function playFavouriteSong(){\n",
    "console.log(\"Now playing\",favouriteSong,\"by\",songArtist)\n",
    "}\n",
    "\n",
    "//Call all functions (or sth like that, Idk how else to say it lol)\n",
    "studentProfile()\n",
    "\n",
    "isThisAStudent()\n",
    "\n",
    "playFavouriteSong()"
   ]
  }
 ],
 "metadata": {
  "kernelspec": {
   "display_name": "venv",
   "language": "python",
   "name": "python3"
  },
  "language_info": {
   "codemirror_mode": {
    "name": "ipython",
    "version": 3
   },
   "file_extension": ".py",
   "mimetype": "text/x-python",
   "name": "python",
   "nbconvert_exporter": "python",
   "pygments_lexer": "ipython3",
   "version": "3.9.6"
  }
 },
 "nbformat": 4,
 "nbformat_minor": 2
}
